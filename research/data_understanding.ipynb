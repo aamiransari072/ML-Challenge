{
 "cells": [
  {
   "cell_type": "code",
   "execution_count": 1,
   "metadata": {},
   "outputs": [],
   "source": [
    "import pandas as pd \n",
    "import numpy as np \n",
    "import matplotlib.pyplot as plt \n",
    "import seaborn as sns \n",
    "import re\n",
    "import os\n",
    "import time\n",
    "import urllib\n",
    "import numpy as np\n",
    "import pandas as pd\n",
    "import requests\n",
    "import multiprocessing\n",
    "from pathlib import Path\n",
    "from functools import partial\n",
    "from PIL import Image\n",
    "from tqdm import tqdm"
   ]
  },
  {
   "cell_type": "code",
   "execution_count": 2,
   "metadata": {},
   "outputs": [],
   "source": [
    "df = pd.read_csv(\"D:\\hackthons\\ML-Challenge/artifacts\\dataset/train.csv\")"
   ]
  },
  {
   "cell_type": "code",
   "execution_count": 3,
   "metadata": {},
   "outputs": [
    {
     "data": {
      "text/html": [
       "<div>\n",
       "<style scoped>\n",
       "    .dataframe tbody tr th:only-of-type {\n",
       "        vertical-align: middle;\n",
       "    }\n",
       "\n",
       "    .dataframe tbody tr th {\n",
       "        vertical-align: top;\n",
       "    }\n",
       "\n",
       "    .dataframe thead th {\n",
       "        text-align: right;\n",
       "    }\n",
       "</style>\n",
       "<table border=\"1\" class=\"dataframe\">\n",
       "  <thead>\n",
       "    <tr style=\"text-align: right;\">\n",
       "      <th></th>\n",
       "      <th>image_link</th>\n",
       "      <th>group_id</th>\n",
       "      <th>entity_name</th>\n",
       "      <th>entity_value</th>\n",
       "    </tr>\n",
       "  </thead>\n",
       "  <tbody>\n",
       "    <tr>\n",
       "      <th>72079</th>\n",
       "      <td>https://m.media-amazon.com/images/I/81-feS2rFO...</td>\n",
       "      <td>993359</td>\n",
       "      <td>item_weight</td>\n",
       "      <td>3 gram</td>\n",
       "    </tr>\n",
       "    <tr>\n",
       "      <th>179849</th>\n",
       "      <td>https://m.media-amazon.com/images/I/51QEfyJOuu...</td>\n",
       "      <td>675317</td>\n",
       "      <td>width</td>\n",
       "      <td>38.0 millimetre</td>\n",
       "    </tr>\n",
       "    <tr>\n",
       "      <th>148629</th>\n",
       "      <td>https://m.media-amazon.com/images/I/5158tQc7qe...</td>\n",
       "      <td>955522</td>\n",
       "      <td>width</td>\n",
       "      <td>30.9 millimetre</td>\n",
       "    </tr>\n",
       "    <tr>\n",
       "      <th>131436</th>\n",
       "      <td>https://m.media-amazon.com/images/I/415lSCcnnb...</td>\n",
       "      <td>658003</td>\n",
       "      <td>width</td>\n",
       "      <td>14.4 inch</td>\n",
       "    </tr>\n",
       "    <tr>\n",
       "      <th>143093</th>\n",
       "      <td>https://m.media-amazon.com/images/I/51CcwY27HG...</td>\n",
       "      <td>752266</td>\n",
       "      <td>width</td>\n",
       "      <td>1.5 inch</td>\n",
       "    </tr>\n",
       "    <tr>\n",
       "      <th>22691</th>\n",
       "      <td>https://m.media-amazon.com/images/I/718UYDNu97...</td>\n",
       "      <td>273748</td>\n",
       "      <td>item_weight</td>\n",
       "      <td>0.76 kilogram</td>\n",
       "    </tr>\n",
       "    <tr>\n",
       "      <th>77020</th>\n",
       "      <td>https://m.media-amazon.com/images/I/61U1WBhQb7...</td>\n",
       "      <td>558374</td>\n",
       "      <td>item_weight</td>\n",
       "      <td>108 gram</td>\n",
       "    </tr>\n",
       "    <tr>\n",
       "      <th>129394</th>\n",
       "      <td>https://m.media-amazon.com/images/I/71FQgXJL9r...</td>\n",
       "      <td>365637</td>\n",
       "      <td>item_weight</td>\n",
       "      <td>250.0 gram</td>\n",
       "    </tr>\n",
       "    <tr>\n",
       "      <th>188860</th>\n",
       "      <td>https://m.media-amazon.com/images/I/51SiZeHit9...</td>\n",
       "      <td>764618</td>\n",
       "      <td>depth</td>\n",
       "      <td>95.0 millimetre</td>\n",
       "    </tr>\n",
       "    <tr>\n",
       "      <th>32430</th>\n",
       "      <td>https://m.media-amazon.com/images/I/51BakaBOsm...</td>\n",
       "      <td>611510</td>\n",
       "      <td>maximum_weight_recommendation</td>\n",
       "      <td>300.0 pound</td>\n",
       "    </tr>\n",
       "  </tbody>\n",
       "</table>\n",
       "</div>"
      ],
      "text/plain": [
       "                                               image_link  group_id  \\\n",
       "72079   https://m.media-amazon.com/images/I/81-feS2rFO...    993359   \n",
       "179849  https://m.media-amazon.com/images/I/51QEfyJOuu...    675317   \n",
       "148629  https://m.media-amazon.com/images/I/5158tQc7qe...    955522   \n",
       "131436  https://m.media-amazon.com/images/I/415lSCcnnb...    658003   \n",
       "143093  https://m.media-amazon.com/images/I/51CcwY27HG...    752266   \n",
       "22691   https://m.media-amazon.com/images/I/718UYDNu97...    273748   \n",
       "77020   https://m.media-amazon.com/images/I/61U1WBhQb7...    558374   \n",
       "129394  https://m.media-amazon.com/images/I/71FQgXJL9r...    365637   \n",
       "188860  https://m.media-amazon.com/images/I/51SiZeHit9...    764618   \n",
       "32430   https://m.media-amazon.com/images/I/51BakaBOsm...    611510   \n",
       "\n",
       "                          entity_name     entity_value  \n",
       "72079                     item_weight           3 gram  \n",
       "179849                          width  38.0 millimetre  \n",
       "148629                          width  30.9 millimetre  \n",
       "131436                          width        14.4 inch  \n",
       "143093                          width         1.5 inch  \n",
       "22691                     item_weight    0.76 kilogram  \n",
       "77020                     item_weight         108 gram  \n",
       "129394                    item_weight       250.0 gram  \n",
       "188860                          depth  95.0 millimetre  \n",
       "32430   maximum_weight_recommendation      300.0 pound  "
      ]
     },
     "execution_count": 3,
     "metadata": {},
     "output_type": "execute_result"
    }
   ],
   "source": [
    "df.sample(10)"
   ]
  },
  {
   "cell_type": "code",
   "execution_count": 4,
   "metadata": {},
   "outputs": [],
   "source": [
    "def create_placeholder_image(image_save_path):\n",
    "    \"\"\"\n",
    "    Create a black placeholder image in case of a failed download.\n",
    "    \"\"\"\n",
    "    try:\n",
    "        placeholder_image = Image.new('RGB', (100, 100), color='black')\n",
    "        placeholder_image.save(image_save_path)\n",
    "    except Exception as e:\n",
    "        print(f\"Error creating placeholder image: {e}\")"
   ]
  },
  {
   "cell_type": "code",
   "execution_count": 5,
   "metadata": {},
   "outputs": [],
   "source": [
    "def download_image(image_link, save_folder, retries=3, delay=3):\n",
    "    \"\"\"\n",
    "    Download an image from a link and save it to a specified folder.\n",
    "    \"\"\"\n",
    "    if not isinstance(image_link, str):\n",
    "        return\n",
    "\n",
    "    filename = Path(image_link).name\n",
    "    image_save_path = os.path.join(save_folder, filename)\n",
    "\n",
    "    if os.path.exists(image_save_path):\n",
    "        return\n",
    "\n",
    "    for _ in range(retries):\n",
    "        try:\n",
    "            urllib.request.urlretrieve(image_link, image_save_path)\n",
    "            return\n",
    "        except Exception as e:\n",
    "            print(f\"Error downloading image {image_link}: {e}\")\n",
    "            time.sleep(delay)\n",
    "    \n",
    "    create_placeholder_image(image_save_path)"
   ]
  },
  {
   "cell_type": "code",
   "execution_count": 6,
   "metadata": {},
   "outputs": [],
   "source": [
    "def download_images(image_links, download_folder, allow_multiprocessing=True):\n",
    "    \"\"\"\n",
    "    Download multiple images from a list of links and save them to a specified folder.\n",
    "    \"\"\"\n",
    "    if not os.path.exists(download_folder):\n",
    "        os.makedirs(download_folder)\n",
    "\n",
    "    if allow_multiprocessing:\n",
    "        download_image_partial = partial(\n",
    "            download_image, save_folder=download_folder, retries=3, delay=3)\n",
    "\n",
    "        # Limit the pool size to the number of available CPU cores\n",
    "        pool_size = min(64, multiprocessing.cpu_count())\n",
    "        with multiprocessing.Pool(processes=pool_size) as pool:\n",
    "            list(tqdm(pool.imap(download_image_partial, image_links), total=len(image_links)))\n",
    "    else:\n",
    "        for image_link in tqdm(image_links, total=len(image_links)):\n",
    "            download_image(image_link, save_folder=download_folder, retries=3, delay=3)"
   ]
  },
  {
   "cell_type": "code",
   "execution_count": 17,
   "metadata": {},
   "outputs": [
    {
     "name": "stderr",
     "output_type": "stream",
     "text": [
      "  0%|          | 0/263859 [00:00<?, ?it/s]"
     ]
    }
   ],
   "source": [
    "download_folder = os.path.join('D:/hackthons/ML-Challenge/artifacts/dataset',\"train\")\n",
    "if not os.path.exists(download_folder):\n",
    "    os.makedirs(download_folder)\n",
    "download_images(df['image_link'],download_folder)\n",
    "\n"
   ]
  },
  {
   "cell_type": "code",
   "execution_count": 9,
   "metadata": {},
   "outputs": [
    {
     "data": {
      "text/plain": [
       "'https://m.media-amazon.com/images/I/61I9XdN6OFL.jpg'"
      ]
     },
     "execution_count": 9,
     "metadata": {},
     "output_type": "execute_result"
    }
   ],
   "source": [
    "df['image_link'][0]"
   ]
  },
  {
   "cell_type": "code",
   "execution_count": null,
   "metadata": {},
   "outputs": [],
   "source": []
  }
 ],
 "metadata": {
  "kernelspec": {
   "display_name": "venv",
   "language": "python",
   "name": "python3"
  },
  "language_info": {
   "codemirror_mode": {
    "name": "ipython",
    "version": 3
   },
   "file_extension": ".py",
   "mimetype": "text/x-python",
   "name": "python",
   "nbconvert_exporter": "python",
   "pygments_lexer": "ipython3",
   "version": "3.9.12"
  }
 },
 "nbformat": 4,
 "nbformat_minor": 2
}
